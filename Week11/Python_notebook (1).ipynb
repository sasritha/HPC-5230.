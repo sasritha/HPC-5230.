{
  "nbformat": 4,
  "nbformat_minor": 0,
  "metadata": {
    "colab": {
      "provenance": []
    },
    "kernelspec": {
      "name": "python3",
      "display_name": "Python 3"
    },
    "language_info": {
      "name": "python"
    }
  },
  "cells": [
    {
      "cell_type": "code",
      "execution_count": null,
      "metadata": {
        "id": "lQ6SblLGVKPV"
      },
      "outputs": [],
      "source": []
    },
    {
      "cell_type": "code",
      "source": [],
      "metadata": {
        "id": "mVu5BeZcVK_V"
      },
      "execution_count": null,
      "outputs": []
    },
    {
      "cell_type": "code",
      "source": [
        "pip install pyreadr"
      ],
      "metadata": {
        "colab": {
          "base_uri": "https://localhost:8080/"
        },
        "id": "AruwmSJOvE3J",
        "outputId": "23db5707-17fe-4ac5-eff1-24a6c11183d0"
      },
      "execution_count": 4,
      "outputs": [
        {
          "output_type": "stream",
          "name": "stdout",
          "text": [
            "Requirement already satisfied: pyreadr in /usr/local/lib/python3.11/dist-packages (0.5.3)\n",
            "Requirement already satisfied: pandas>=1.2.0 in /usr/local/lib/python3.11/dist-packages (from pyreadr) (2.2.2)\n",
            "Requirement already satisfied: numpy>=1.23.2 in /usr/local/lib/python3.11/dist-packages (from pandas>=1.2.0->pyreadr) (2.0.2)\n",
            "Requirement already satisfied: python-dateutil>=2.8.2 in /usr/local/lib/python3.11/dist-packages (from pandas>=1.2.0->pyreadr) (2.8.2)\n",
            "Requirement already satisfied: pytz>=2020.1 in /usr/local/lib/python3.11/dist-packages (from pandas>=1.2.0->pyreadr) (2025.2)\n",
            "Requirement already satisfied: tzdata>=2022.7 in /usr/local/lib/python3.11/dist-packages (from pandas>=1.2.0->pyreadr) (2025.2)\n",
            "Requirement already satisfied: six>=1.5 in /usr/local/lib/python3.11/dist-packages (from python-dateutil>=2.8.2->pandas>=1.2.0->pyreadr) (1.17.0)\n"
          ]
        }
      ]
    },
    {
      "cell_type": "code",
      "source": [
        "# -----------------------------------\n",
        "# Setup\n",
        "# -----------------------------------\n",
        "import pandas as pd\n",
        "import numpy as np\n",
        "import time\n",
        "from sklearn.model_selection import cross_val_score\n",
        "from xgboost import XGBClassifier\n",
        "from sklearn.datasets import fetch_openml\n",
        "from sklearn.model_selection import train_test_split\n",
        "\n",
        "# -----------------------------------\n",
        "# Load and Prepare Data\n",
        "# -----------------------------------\n",
        "# Load Pima Indians Diabetes Dataset\n",
        "pima = fetch_openml(name='diabetes', version=1, as_frame=True)\n",
        "df = pima.frame\n",
        "df.columns = ['pregnant', 'glucose', 'pressure', 'triceps', 'insulin', 'mass', 'pedigree', 'age', 'diabetes']\n",
        "df = df.dropna()\n",
        "\n",
        "# Create outcome column\n",
        "df['outcome'] = (df['diabetes'] == 'pos').astype(int)\n",
        "df = df.drop(columns=['diabetes'])\n",
        "\n",
        "# -----------------------------------\n",
        "# Function to Generate Synthetic Data\n",
        "# -----------------------------------\n",
        "def generate_synthetic_data(size):\n",
        "    np.random.seed(123)\n",
        "    sampled_df = df.sample(n=size, replace=True).reset_index(drop=True)\n",
        "    return sampled_df\n",
        "\n",
        "# -----------------------------------\n",
        "# Function to Train XGBoost Model (direct)\n",
        "# -----------------------------------\n",
        "def run_xgboost(size):\n",
        "    print(f\"\\n[Python XGBoost] Running for dataset size: {size}\")\n",
        "\n",
        "    # Generate synthetic data\n",
        "    data = generate_synthetic_data(size)\n",
        "    X = data.drop(columns=['outcome'])\n",
        "    y = data['outcome']\n",
        "\n",
        "    # Split into train/test\n",
        "    X_train, X_test, y_train, y_test = train_test_split(X, y, test_size=0.2, random_state=123)\n",
        "\n",
        "    # Train XGBoost model\n",
        "    model = XGBClassifier(use_label_encoder=False, eval_metric='logloss', n_estimators=2, verbosity=0)\n",
        "    start = time.time()\n",
        "    model.fit(X_train, y_train)\n",
        "    end = time.time()\n",
        "\n",
        "    # Predict and Evaluate\n",
        "    acc = model.score(X_test, y_test)\n",
        "\n",
        "    print(f\"Testing-set Accuracy: {round(acc * 100, 2)}%\")\n",
        "    print(f\"Time Taken (seconds): {round(end - start, 2)}\")\n",
        "    print(\"-------------------------------------------\")\n",
        "\n",
        "# -----------------------------------\n",
        "# Main Execution\n",
        "# -----------------------------------\n",
        "sizes = [100, 1000, 10000, 100000, 1000000]  # Up to 1 million\n",
        "\n",
        "for size in sizes:\n",
        "    run_xgboost(size)"
      ],
      "metadata": {
        "colab": {
          "base_uri": "https://localhost:8080/"
        },
        "id": "NHn1fPXEVLAt",
        "outputId": "9c8a590f-cb2f-4e94-e98a-116df52db24e"
      },
      "execution_count": 5,
      "outputs": [
        {
          "output_type": "stream",
          "name": "stdout",
          "text": [
            "\n",
            "[Python XGBoost] Running for dataset size: 100\n",
            "Testing-set Accuracy: 100.0%\n",
            "Time Taken (seconds): 0.05\n",
            "-------------------------------------------\n",
            "\n",
            "[Python XGBoost] Running for dataset size: 1000\n",
            "Testing-set Accuracy: 100.0%\n",
            "Time Taken (seconds): 0.02\n",
            "-------------------------------------------\n",
            "\n",
            "[Python XGBoost] Running for dataset size: 10000\n",
            "Testing-set Accuracy: 100.0%\n",
            "Time Taken (seconds): 0.07\n",
            "-------------------------------------------\n",
            "\n",
            "[Python XGBoost] Running for dataset size: 100000\n",
            "Testing-set Accuracy: 100.0%\n",
            "Time Taken (seconds): 0.27\n",
            "-------------------------------------------\n",
            "\n",
            "[Python XGBoost] Running for dataset size: 1000000\n",
            "Testing-set Accuracy: 100.0%\n",
            "Time Taken (seconds): 2.82\n",
            "-------------------------------------------\n"
          ]
        }
      ]
    }
  ]
}