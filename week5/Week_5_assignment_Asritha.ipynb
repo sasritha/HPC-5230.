{
  "nbformat": 4,
  "nbformat_minor": 0,
  "metadata": {
    "colab": {
      "provenance": []
    },
    "kernelspec": {
      "name": "python3",
      "display_name": "Python 3"
    },
    "language_info": {
      "name": "python"
    }
  },
  "cells": [
    {
      "cell_type": "markdown",
      "source": [
        "Asritha Suraparaju\n",
        "\n",
        "HDS 5230 - High Performance Computing\n",
        "\n",
        "Week 05 - Dask Programming Assignment"
      ],
      "metadata": {
        "id": "cavnr1lnRhV_"
      }
    },
    {
      "cell_type": "code",
      "execution_count": 5,
      "metadata": {
        "id": "-KYRKFohRaXJ"
      },
      "outputs": [],
      "source": [
        "# Import required libraries\n",
        "import pandas as pd\n",
        "import dask.dataframe as dd\n",
        "from datetime import datetime"
      ]
    },
    {
      "cell_type": "code",
      "source": [
        "# define data types for columns\n",
        "dtypes = {\n",
        "    'county': 'object',\n",
        "    'state': 'object',\n",
        "    'country':'object',\n",
        "    'level':'object',\n",
        "    'city': 'object',\n",
        "    'aggregate': 'object',\n",
        "    'population':'float64',\n",
        "    'deaths': 'float64',\n",
        "    'cases': 'float64',\n",
        "    'date': 'object'\n",
        "\n",
        "}"
      ],
      "metadata": {
        "id": "7nGbOkjlR5zY"
      },
      "execution_count": 6,
      "outputs": []
    },
    {
      "cell_type": "code",
      "source": [
        "# Read the CSV, to specify the correct data types.\n",
        "df = dd.read_csv('timeseries.csv', dtype=dtypes, assume_missing=True)"
      ],
      "metadata": {
        "id": "Yr-NACoER-_n"
      },
      "execution_count": 7,
      "outputs": []
    },
    {
      "cell_type": "code",
      "source": [
        "# Converting the 'date' column to datetime objects\n",
        "df['date'] = dd.to_datetime(df['date'])"
      ],
      "metadata": {
        "id": "UCVeYRLXSHb3"
      },
      "execution_count": 8,
      "outputs": []
    },
    {
      "cell_type": "code",
      "source": [
        "# Filter for US states and specified date range\n",
        "mask = (\n",
        "    (df['country'] == 'United States') &\n",
        "    (df['level'] == 'state') &\n",
        "    (df['date'] >= '2020-01-01') &\n",
        "    (df['date'] <= '2021-02-28')\n",
        ")\n",
        "us_states_df = df[mask]"
      ],
      "metadata": {
        "id": "ekxHhqwNSPaD"
      },
      "execution_count": 10,
      "outputs": []
    },
    {
      "cell_type": "markdown",
      "source": [
        "Parallelization effectively optimizes the COVID-19 dataset loading process because it involves reading CSV files and selecting U.S. states. The vast dataset consists of numerous millions of records which incorporate worldwide data points from different regions and countries. The parallel CSV processing feature of Dask provides beneficial split operations because it distributes data portions between multiple cores while doing separate processing work at each node. The operation can be easily parallelized since each table row contains independent computing elements."
      ],
      "metadata": {
        "id": "6fodjGMTSV2k"
      }
    },
    {
      "cell_type": "code",
      "source": [
        "# Group data by state and compute key metrics:\n",
        "# - Maximum reported deaths per state (assuming final recorded death count is needed)\n",
        "# - Mean population per state (averaging over the dataset timeframe)\n",
        "state_metrics = us_states_df.groupby('state').agg({\n",
        "    'deaths': 'max',\n",
        "    'population': 'mean'\n",
        "}).compute()\n",
        "\n",
        "## Calculate per-capita mortality:\n",
        "# - Deaths per 100,000 people for better comparability between states\n",
        "state_metrics['per_capita_mortality'] = (\n",
        "    state_metrics['deaths'] / state_metrics['population'] * 100000\n",
        ")\n",
        "\n",
        "# Rank states based on per-capita mortality in descending order\n",
        "ranked_states = state_metrics.sort_values(\n",
        "    'per_capita_mortality',\n",
        "    ascending=False\n",
        ")\n",
        "\n",
        "ranked_states = ranked_states.round(2)\n",
        "# print the results of ranked states\n",
        "print(ranked_states[['deaths', 'population', 'per_capita_mortality']])"
      ],
      "metadata": {
        "colab": {
          "base_uri": "https://localhost:8080/"
        },
        "id": "cZeu4Y24SW-N",
        "outputId": "9abbc422-6ac1-4417-c7a8-3ce6e9658109"
      },
      "execution_count": 11,
      "outputs": [
        {
          "output_type": "stream",
          "name": "stdout",
          "text": [
            "                               deaths  population  per_capita_mortality\n",
            "state                                                                  \n",
            "New Jersey                    15211.0   8882190.0                171.25\n",
            "New York                      24904.0  19453561.0                128.02\n",
            "Connecticut                    4335.0   3565287.0                121.59\n",
            "Massachusetts                  8183.0   6892503.0                118.72\n",
            "Rhode Island                    960.0   1059361.0                 90.62\n",
            "Washington, D.C.                559.0    705749.0                 79.21\n",
            "Louisiana                      3288.0   4648794.0                 70.73\n",
            "Michigan                       6218.0   9986857.0                 62.26\n",
            "Illinois                       7020.0  12671821.0                 55.40\n",
            "Maryland                       3243.0   6045680.0                 53.64\n",
            "Pennsylvania                   6753.0  12801989.0                 52.75\n",
            "Delaware                        512.0    973764.0                 52.58\n",
            "Indiana                        2640.0   6732219.0                 39.21\n",
            "Mississippi                    1111.0   2976149.0                 37.33\n",
            "Colorado                       1701.0   5758736.0                 29.54\n",
            "New Hampshire                   376.0   1359711.0                 27.65\n",
            "Georgia                        2860.0  10617423.0                 26.94\n",
            "Minnesota                      1508.0   5639632.0                 26.74\n",
            "Ohio                           2911.0  11689100.0                 24.90\n",
            "Arizona                        1809.0   7278717.0                 24.85\n",
            "New Mexico                      513.0   2096829.0                 24.47\n",
            "Iowa                            721.0   3155070.0                 22.85\n",
            "Virginia                       1853.0   8535519.0                 21.71\n",
            "Alabama                        1007.0   4903185.0                 20.54\n",
            "Washington                     1354.0   7614893.0                 17.78\n",
            "Florida                        3731.0  21477737.0                 17.37\n",
            "Nevada                          534.0   3080156.0                 17.34\n",
            "Missouri                       1028.0   6137428.0                 16.75\n",
            "California                     6330.0  39512223.0                 16.02\n",
            "South Carolina                  820.0   5148714.0                 15.93\n",
            "Nebraska                        283.0   1934408.0                 14.63\n",
            "Wisconsin                       803.0   5822434.0                 13.79\n",
            "Kentucky                        603.0   4467673.0                 13.50\n",
            "North Carolina                 1396.0  10488084.0                 13.31\n",
            "North Dakota                     89.0    762062.0                 11.68\n",
            "South Dakota                     97.0    884659.0                 10.96\n",
            "Oklahoma                        398.0   3956971.0                 10.06\n",
            "Kansas                          277.0   2913314.0                  9.51\n",
            "Arkansas                        286.0   3017804.0                  9.48\n",
            "Tennessee                       646.0   6829174.0                  9.46\n",
            "Texas                          2637.0  28995881.0                  9.09\n",
            "Vermont                          56.0    623989.0                  8.97\n",
            "Maine                           109.0   1344212.0                  8.11\n",
            "Utah                            184.0   3205958.0                  5.74\n",
            "United States Virgin Islands      6.0    104901.0                  5.72\n",
            "West Virginia                    94.0   1792147.0                  5.25\n",
            "Idaho                            93.0   1787065.0                  5.20\n",
            "Oregon                          215.0   4217737.0                  5.10\n",
            "Puerto Rico                     155.0   3411307.0                  4.54\n",
            "Northern Mariana Islands          2.0     55144.0                  3.63\n",
            "Wyoming                          20.0    578759.0                  3.46\n",
            "Guam                              5.0    167772.0                  2.98\n",
            "Alaska                           16.0    731545.0                  2.19\n",
            "Montana                          23.0   1068778.0                  2.15\n",
            "Hawaii                           18.0   1415872.0                  1.27\n",
            "American Samoa                    NaN     55689.0                   NaN\n"
          ]
        }
      ]
    },
    {
      "cell_type": "markdown",
      "source": [
        "Computing per-capita mortality rates by state does not yield many benefits from parallelization. Our data analysis now operates only with 50 states after grouping by state which constitutes small data. The death counts and population numbers are simple to calculate because the data set fits entirely within the system memory. The additional costs needed to establish parallel processing exceed the expenses of executing calculations one after another. The problem requires basic operations from pandas data processing framework."
      ],
      "metadata": {
        "id": "AfiGchSsSqG2"
      }
    },
    {
      "cell_type": "code",
      "source": [
        "# Extracting the month and year from the date column for monthly aggregation\n",
        "us_states_df['month_year'] = us_states_df['date'].dt.strftime('%Y-%m')\n",
        "\n",
        "# Group data by state and month-year, by aggregating the cases and deaths per month\n",
        "monthly_metrics = us_states_df.groupby(['state', 'month_year']).agg({\n",
        "    'cases': 'max',\n",
        "    'deaths': 'max'\n",
        "}).compute()\n",
        "\n",
        "# Reset index to ensure 'state' and 'month_year' are columns\n",
        "monthly_metrics = monthly_metrics.reset_index()\n",
        "\n",
        "# Calculating the new cases per month by taking the difference from the previous month's cases\n",
        "monthly_metrics['new_cases'] = monthly_metrics.groupby('state')['cases'].diff().fillna(monthly_metrics['cases'])\n",
        "\n",
        "# Calculate new deaths per month by taking the difference from the previous month's deaths\n",
        "monthly_metrics['new_deaths'] = monthly_metrics.groupby('state')['deaths'].diff().fillna(monthly_metrics['deaths'])\n",
        "\n",
        "# Compute Case Fatality Rate (CFR) per month:\n",
        "monthly_metrics['cfr'] = (monthly_metrics['new_deaths'] / monthly_metrics['new_cases'] * 100).round(2)\n",
        "\n",
        "# Pivot the data to create a CFR matrix with states as rows and months as columns\n",
        "cfr_matrix = monthly_metrics.pivot(\n",
        "    index='state',\n",
        "    columns='month_year',\n",
        "    values='cfr'\n",
        ")\n",
        "# print the results\n",
        "print(cfr_matrix)"
      ],
      "metadata": {
        "colab": {
          "base_uri": "https://localhost:8080/"
        },
        "id": "6N4vcPcUSgBV",
        "outputId": "99f2e0a0-0662-40e3-8071-a316dd6a6489"
      },
      "execution_count": 12,
      "outputs": [
        {
          "output_type": "stream",
          "name": "stdout",
          "text": [
            "month_year                    2020-01  2020-02  2020-03  2020-04  2020-05  \\\n",
            "state                                                                       \n",
            "Alabama                           NaN      NaN     1.30     4.25     3.30   \n",
            "Alaska                            NaN      NaN      NaN     4.05     0.88   \n",
            "American Samoa                    NaN      NaN      NaN      NaN      NaN   \n",
            "Arizona                           NaN      NaN      NaN     5.03     4.74   \n",
            "Arkansas                          NaN      NaN     1.42     1.97     1.89   \n",
            "California                        NaN      NaN     2.13     4.43     3.47   \n",
            "Colorado                          NaN      NaN     2.43     5.85     5.85   \n",
            "Connecticut                       NaN      NaN     1.80     8.79    11.78   \n",
            "Delaware                          NaN      NaN     3.13     3.22     4.54   \n",
            "Florida                           NaN      NaN     1.26     4.39     5.28   \n",
            "Georgia                           NaN      NaN     3.04     4.51     4.46   \n",
            "Guam                              NaN      NaN     2.70     3.67     0.00   \n",
            "Hawaii                            NaN      NaN     0.48      NaN    51.52   \n",
            "Idaho                             NaN      NaN     1.71     3.50     2.53   \n",
            "Illinois                          NaN      NaN     1.66     4.81     4.54   \n",
            "Indiana                           NaN      NaN     2.27     5.95     6.41   \n",
            "Iowa                              NaN      NaN     1.41     2.33     3.01   \n",
            "Kansas                            NaN      NaN     0.54     3.28     1.45   \n",
            "Kentucky                          NaN      NaN     2.70     5.58     3.77   \n",
            "Louisiana                         NaN      NaN     4.56     7.13     7.80   \n",
            "Maine                             NaN      NaN     1.65     6.06     2.93   \n",
            "Maryland                          NaN      NaN     0.60     5.63     4.32   \n",
            "Massachusetts                     NaN      NaN     1.34     6.25     9.51   \n",
            "Michigan                          NaN      NaN     3.50    10.42    10.85   \n",
            "Minnesota                         NaN      NaN      NaN     7.61     3.55   \n",
            "Mississippi                       NaN      NaN     2.13     4.10     5.45   \n",
            "Missouri                          NaN      NaN     1.06     5.05     8.19   \n",
            "Montana                           NaN      NaN      NaN     6.27     1.61   \n",
            "Nebraska                          NaN      NaN      NaN     1.82     1.06   \n",
            "Nevada                            NaN      NaN     2.57     5.29     5.01   \n",
            "New Hampshire                     NaN      NaN     0.82     3.73     6.91   \n",
            "New Jersey                        NaN      NaN     1.79     6.72    10.91   \n",
            "New Mexico                        NaN      NaN     1.59     3.69     5.45   \n",
            "New York                          NaN      NaN     0.57     6.68     8.47   \n",
            "North Carolina                    NaN      NaN     0.53     4.12     2.93   \n",
            "North Dakota                      NaN      NaN     0.79     1.91     2.78   \n",
            "Northern Mariana Islands          NaN      NaN      NaN    14.29     0.00   \n",
            "Ohio                              NaN      NaN     2.50     5.81     6.75   \n",
            "Oklahoma                          NaN      NaN     4.06     6.52     3.88   \n",
            "Oregon                            NaN      NaN     2.61     4.67     2.89   \n",
            "Pennsylvania                      NaN      NaN     1.30     5.45    10.71   \n",
            "Puerto Rico                       NaN      NaN      NaN     5.98     1.88   \n",
            "Rhode Island                      NaN      NaN     0.61     3.23     7.18   \n",
            "South Carolina                    NaN      NaN     2.03     4.43     4.34   \n",
            "South Dakota                      NaN      NaN     0.93     0.68     1.77   \n",
            "Tennessee                         NaN      NaN     0.18     2.35     1.37   \n",
            "Texas                             NaN      NaN     1.26     2.90     2.51   \n",
            "United States Virgin Islands      NaN      NaN      NaN     6.06    66.67   \n",
            "Utah                              NaN      NaN     0.56     1.08     1.28   \n",
            "Vermont                           NaN      NaN     2.48     7.19     5.41   \n",
            "Virginia                          NaN      NaN     0.96     3.70     2.86   \n",
            "Washington                        NaN    11.11     3.97     6.61     3.72   \n",
            "Washington, D.C.                  NaN      NaN     1.82     5.62     5.40   \n",
            "West Virginia                     NaN      NaN      NaN     4.28     3.81   \n",
            "Wisconsin                         NaN      NaN     1.19     5.45     2.40   \n",
            "Wyoming                           NaN      NaN      NaN     1.65     2.51   \n",
            "\n",
            "month_year                    2020-06  2020-07  \n",
            "state                                           \n",
            "Alabama                          1.59     0.96  \n",
            "Alaska                           0.31   -40.00  \n",
            "American Samoa                    NaN      NaN  \n",
            "Arizona                          0.47     3.32  \n",
            "Arkansas                         1.05     0.51  \n",
            "California                       1.61     1.20  \n",
            "Colorado                         3.87     0.80  \n",
            "Connecticut                      8.82     3.19  \n",
            "Delaware                         7.19     0.43  \n",
            "Florida                          1.10     0.47  \n",
            "Georgia                          2.61     0.50  \n",
            "Guam                             0.00     0.00  \n",
            "Hawaii                           0.39      NaN  \n",
            "Idaho                            0.31     0.08  \n",
            "Illinois                         6.56     2.33  \n",
            "Indiana                          4.47     5.77  \n",
            "Iowa                             1.89     0.18  \n",
            "Kansas                           1.37     0.08  \n",
            "Kentucky                         2.46     3.37  \n",
            "Louisiana                        1.80     2.45  \n",
            "Maine                            1.72     2.44  \n",
            "Maryland                         4.44     5.54  \n",
            "Massachusetts                   10.47     6.88  \n",
            "Michigan                         5.18     1.02  \n",
            "Minnesota                        3.50     3.50  \n",
            "Mississippi                      2.89     1.04  \n",
            "Missouri                         3.41     0.70  \n",
            "Montana                          1.11     0.41  \n",
            "Nebraska                         1.96     0.71  \n",
            "Nevada                           0.88     0.70  \n",
            "New Hampshire                   11.09     6.58  \n",
            "New Jersey                      25.15    33.65  \n",
            "New Mexico                       3.16     1.75  \n",
            "New York                         5.24     2.60  \n",
            "North Carolina                   1.24     0.43  \n",
            "North Dakota                     1.80     4.17  \n",
            "Northern Mariana Islands         0.00     0.00  \n",
            "Ohio                             4.35     0.90  \n",
            "Oklahoma                         0.73     0.51  \n",
            "Oregon                           1.27     0.38  \n",
            "Pennsylvania                     7.60    -4.23  \n",
            "Puerto Rico                      0.66     0.40  \n",
            "Rhode Island                    18.88     3.45  \n",
            "South Carolina                   1.00     0.96  \n",
            "South Dakota                     1.64     2.01  \n",
            "Tennessee                        1.16     0.57  \n",
            "Texas                            0.79     0.54  \n",
            "United States Virgin Islands     0.00     0.00  \n",
            "Utah                             0.39     0.89  \n",
            "Vermont                          0.44     0.00  \n",
            "Virginia                         2.14     2.99  \n",
            "Washington                       1.77     2.97  \n",
            "Washington, D.C.                 5.57     5.16  \n",
            "West Virginia                    2.01     0.28  \n",
            "Wisconsin                        1.84     0.29  \n",
            "Wyoming                          0.68     0.00  \n"
          ]
        }
      ]
    },
    {
      "cell_type": "code",
      "source": [
        "# Calculate month-to-month changes in the CFR for each state\n",
        "cfr_changes = cfr_matrix.diff(axis=1)\n",
        "\n",
        "# Create a new DataFrame to store state-level metrics based on CFR changes\n",
        "state_metrics = pd.DataFrame(index=cfr_matrix.index)\n",
        "\n",
        "# Compute the total absolute change in CFR over time\n",
        "state_metrics['total_absolute_change'] = cfr_changes.abs().sum(axis=1)\n",
        "\n",
        "# Compute the average monthly change in CFR for each state\n",
        "state_metrics['avg_monthly_change'] = cfr_changes.mean(axis=1)\n",
        "\n",
        "# Measure the volatility in CFR changes using standard deviation\n",
        "state_metrics['volatility'] = cfr_changes.std(axis=1)\n",
        "\n",
        "# Count the number of months where CFR increased\n",
        "state_metrics['positive_changes'] = (cfr_changes > 0).sum(axis=1)\n",
        "# Count the number of months where CFR decreased\n",
        "state_metrics['negative_changes'] = (cfr_changes < 0).sum(axis=1)\n",
        "\n",
        "# Count the number of months where CFR remained unchanged\n",
        "state_metrics['no_changes'] = (cfr_changes == 0).sum(axis=1)\n",
        "\n",
        "# Rank states based on total absolute CFR change, with the highest change first\n",
        "ranked_states = state_metrics.sort_values('total_absolute_change', ascending=False)\n",
        "\n",
        "#printing the top 10 states\n",
        "print(ranked_states.head(10))"
      ],
      "metadata": {
        "colab": {
          "base_uri": "https://localhost:8080/"
        },
        "id": "RAIADVRGS0xq",
        "outputId": "92d727ae-0367-4a70-ca59-93167d7bd2b9"
      },
      "execution_count": 13,
      "outputs": [
        {
          "output_type": "stream",
          "name": "stdout",
          "text": [
            "                              total_absolute_change  avg_monthly_change  \\\n",
            "state                                                                     \n",
            "United States Virgin Islands                 127.28           -2.020000   \n",
            "Hawaii                                        51.13          -51.130000   \n",
            "Alaska                                        44.05          -14.683333   \n",
            "Rhode Island                                  33.70            0.710000   \n",
            "New Jersey                                    31.86            7.965000   \n",
            "Pennsylvania                                  24.35           -1.382500   \n",
            "Connecticut                                   18.57            0.347500   \n",
            "Michigan                                      17.18           -0.620000   \n",
            "Washington                                    15.82           -1.628000   \n",
            "New Hampshire                                 14.78            1.440000   \n",
            "\n",
            "                              volatility  positive_changes  negative_changes  \\\n",
            "state                                                                          \n",
            "United States Virgin Islands   63.664039                 1                 1   \n",
            "Hawaii                               NaN                 0                 1   \n",
            "Alaska                         22.231386                 0                 3   \n",
            "Rhode Island                   11.480787                 3                 1   \n",
            "New Jersey                      4.587072                 4                 0   \n",
            "Pennsylvania                    7.892314                 2                 2   \n",
            "Connecticut                     5.708931                 2                 2   \n",
            "Michigan                        5.656507                 2                 2   \n",
            "Washington                      3.817456                 2                 3   \n",
            "New Hampshire                   4.004106                 3                 1   \n",
            "\n",
            "                              no_changes  \n",
            "state                                     \n",
            "United States Virgin Islands           1  \n",
            "Hawaii                                 0  \n",
            "Alaska                                 0  \n",
            "Rhode Island                           0  \n",
            "New Jersey                             0  \n",
            "Pennsylvania                           0  \n",
            "Connecticut                            0  \n",
            "Michigan                               0  \n",
            "Washington                             0  \n",
            "New Hampshire                          0  \n"
          ]
        }
      ]
    },
    {
      "cell_type": "code",
      "source": [
        "#printing the least 10 states\n",
        "print(ranked_states.tail(10))"
      ],
      "metadata": {
        "colab": {
          "base_uri": "https://localhost:8080/"
        },
        "id": "-b7D4G0qS1xx",
        "outputId": "025552c6-63d8-40ab-a742-383dd862b71d"
      },
      "execution_count": 14,
      "outputs": [
        {
          "output_type": "stream",
          "name": "stdout",
          "text": [
            "                total_absolute_change  avg_monthly_change  volatility  \\\n",
            "state                                                                   \n",
            "Minnesota                        4.11           -1.370000    2.329742   \n",
            "Texas                            4.00           -0.180000    1.382389   \n",
            "West Virginia                    4.00           -1.333333    0.748487   \n",
            "Tennessee                        3.95            0.097500    1.416977   \n",
            "Wyoming                          3.37           -0.550000    1.349704   \n",
            "Nebraska                         2.91           -0.370000    1.126810   \n",
            "Utah                             2.11            0.082500    0.664649   \n",
            "Arkansas                         2.01           -0.227500    0.605275   \n",
            "South Dakota                     1.84            0.270000    0.609043   \n",
            "American Samoa                   0.00                 NaN         NaN   \n",
            "\n",
            "                positive_changes  negative_changes  no_changes  \n",
            "state                                                           \n",
            "Minnesota                      0                 2           1  \n",
            "Texas                          1                 3           0  \n",
            "West Virginia                  0                 3           0  \n",
            "Tennessee                      1                 3           0  \n",
            "Wyoming                        1                 2           0  \n",
            "Nebraska                       1                 2           0  \n",
            "Utah                           3                 1           0  \n",
            "Arkansas                       1                 3           0  \n",
            "South Dakota                   2                 2           0  \n",
            "American Samoa                 0                 0           0  \n"
          ]
        }
      ]
    },
    {
      "cell_type": "markdown",
      "source": [
        "The ranking of states through CFR change computation should avoid parallel execution strategies because it would produce negative effects. The entire chronological data for each state needs evaluation alongside statewide inter-state comparisons for this procedure. All data has already been reduced to a small dimension of 50 states which means the ordering process (calculations) must access the complete data set concurrently. Implementing parallelization for this task would create more expensive operational costs than matching the advantages achieved through parallel processing. The ranking process demands examination of all states simultaneously because it needs complete state interaction during the production of rankings."
      ],
      "metadata": {
        "id": "BPF6g74US6Kh"
      }
    }
  ]
}