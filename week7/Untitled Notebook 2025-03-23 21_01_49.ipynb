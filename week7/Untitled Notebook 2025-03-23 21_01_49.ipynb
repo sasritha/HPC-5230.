{
 "cells": [
  {
   "cell_type": "code",
   "execution_count": 0,
   "metadata": {
    "application/vnd.databricks.v1+cell": {
     "cellMetadata": {
      "byteLimit": 2048000,
      "rowLimit": 10000
     },
     "inputWidgets": {},
     "nuid": "0d0f35e8-b14d-45d4-b373-e508acf25224",
     "showTitle": false,
     "tableResultSettingsMap": {},
     "title": ""
    }
   },
   "outputs": [
    {
     "output_type": "stream",
     "name": "stderr",
     "output_type": "stream",
     "text": [
      "  % Total    % Received % Xferd  Average Speed   Time    Time     Time  Current\n                                 Dload  Upload   Total   Spent    Left  Speed\n\r  0     0    0     0    0     0      0      0 --:--:-- --:--:-- --:--:--     0\r  0  752M    0 6335k    0     0  21.0M      0  0:00:35 --:--:--  0:00:35 20.9M\r 24  752M   24  182M    0     0   141M      0  0:00:05  0:00:01  0:00:04  141M\r 49  752M   49  370M    0     0   161M      0  0:00:04  0:00:02  0:00:02  161M\r 73  752M   73  552M    0     0   168M      0  0:00:04  0:00:03  0:00:01  167M\r 97  752M   97  736M    0     0   171M      0  0:00:04  0:00:04 --:--:--  171M\r100  752M  100  752M    0     0   171M      0  0:00:04  0:00:04 --:--:--  182M\n"
     ]
    },
    {
     "output_type": "stream",
     "name": "stdout",
     "output_type": "stream",
     "text": [
      "Archive:  /tmp/openpayments_2023.zip\n  inflating: /tmp/openpayments_2023/OP_PGYR2023_README_P01302025.txt  \n  inflating: /tmp/openpayments_2023/OP_DTL_OWNRSHP_PGYR2023_P01302025_01212025.csv  \n  inflating: /tmp/openpayments_2023/OP_DTL_GNRL_PGYR2023_P01302025_01212025.csv  \n  inflating: /tmp/openpayments_2023/OP_DTL_RSRCH_PGYR2023_P01302025_01212025.csv  \n  inflating: /tmp/openpayments_2023/OP_REMOVED_DELETED_PGYR2023_P01302025_01212025.csv  \n"
     ]
    }
   ],
   "source": [
    "%%sh\n",
    "# Download the CMS Open Payments ZIP file\n",
    "curl -L https://download.cms.gov/openpayments/PGYR2023_P01302025_01212025.zip -o /tmp/openpayments_2023.zip\n",
    "\n",
    "# Unzip the file to a directory, force overwriting existing files without prompting\n",
    "unzip -o /tmp/openpayments_2023.zip -d /tmp/openpayments_2023"
   ]
  },
  {
   "cell_type": "code",
   "execution_count": 0,
   "metadata": {
    "application/vnd.databricks.v1+cell": {
     "cellMetadata": {
      "byteLimit": 2048000,
      "rowLimit": 10000
     },
     "inputWidgets": {},
     "nuid": "785175b1-4422-402f-938a-fa1e38d5668f",
     "showTitle": false,
     "tableResultSettingsMap": {},
     "title": ""
    }
   },
   "outputs": [],
   "source": [
    "# Importing required libraries\n",
    "import os\n",
    "from pyspark.sql import SparkSession\n",
    "from pyspark.sql.functions import col, sum, desc, count"
   ]
  },
  {
   "cell_type": "code",
   "execution_count": 0,
   "metadata": {
    "application/vnd.databricks.v1+cell": {
     "cellMetadata": {
      "byteLimit": 2048000,
      "rowLimit": 10000
     },
     "inputWidgets": {},
     "nuid": "ac6a06b2-c331-4b59-98e3-72aa381e5f8f",
     "showTitle": false,
     "tableResultSettingsMap": {},
     "title": ""
    }
   },
   "outputs": [
    {
     "output_type": "stream",
     "name": "stdout",
     "output_type": "stream",
     "text": [
      "Out[5]: ['OP_REMOVED_DELETED_PGYR2023_P01302025_01212025.csv',\n 'OP_DTL_GNRL_PGYR2023_P01302025_01212025.csv',\n 'OP_PGYR2023_README_P01302025.txt',\n 'OP_DTL_OWNRSHP_PGYR2023_P01302025_01212025.csv',\n 'OP_DTL_RSRCH_PGYR2023_P01302025_01212025.csv']"
     ]
    }
   ],
   "source": [
    "import os\n",
    "\n",
    "# List the extracted files\n",
    "os.listdir(\"/tmp/openpayments_2023\")"
   ]
  },
  {
   "cell_type": "code",
   "execution_count": 0,
   "metadata": {
    "application/vnd.databricks.v1+cell": {
     "cellMetadata": {
      "byteLimit": 2048000,
      "rowLimit": 10000
     },
     "inputWidgets": {},
     "nuid": "15c8996a-7314-4e1d-a054-5026f83add88",
     "showTitle": false,
     "tableResultSettingsMap": {},
     "title": ""
    }
   },
   "outputs": [],
   "source": [
    "# Reading the CSV file into a Spark DataFrame\n",
    "df = spark.read.csv(\"file:/tmp/openpayments_2023/OP_DTL_GNRL_PGYR2023_P01302025_01212025.csv\", header=True, inferSchema=True)\n",
    "\n",
    "# Saving it as a Delta table\n",
    "df.write \\\n",
    "    .format(\"delta\") \\\n",
    "    .mode(\"overwrite\") \\\n",
    "    .saveAsTable(\"asritha_week7_General_openPays_2023\")"
   ]
  },
  {
   "cell_type": "code",
   "execution_count": 0,
   "metadata": {
    "application/vnd.databricks.v1+cell": {
     "cellMetadata": {
      "byteLimit": 2048000,
      "rowLimit": 10000
     },
     "inputWidgets": {},
     "nuid": "7b9eeb72-7fcb-4b9b-9509-fa5b4187a435",
     "showTitle": false,
     "tableResultSettingsMap": {},
     "title": ""
    }
   },
   "outputs": [],
   "source": [
    "# Reading the CSV file into a Spark DataFrame\n",
    "df = spark.read.csv(\"dbfs:/FileStore/shared_uploads/asritha.suraparaju@slu.edu/OP_CVRD_RCPNT_PRFL_SPLMTL_P01302025_01212025.csv\")\n",
    "\n",
    "# Saving it as a Delta table (use underscores instead of spaces)\n",
    "df.write \\\n",
    "    .format(\"delta\") \\\n",
    "    .mode(\"overwrite\") \\\n",
    "    .saveAsTable(\"Cp_covered_recipients\")"
   ]
  },
  {
   "cell_type": "code",
   "execution_count": 0,
   "metadata": {
    "application/vnd.databricks.v1+cell": {
     "cellMetadata": {
      "byteLimit": 2048000,
      "rowLimit": 10000
     },
     "inputWidgets": {},
     "nuid": "fb50038a-931a-4e70-9b9c-0e92703108e5",
     "showTitle": false,
     "tableResultSettingsMap": {},
     "title": ""
    }
   },
   "outputs": [
    {
     "output_type": "stream",
     "name": "stdout",
     "output_type": "stream",
     "text": [
      "+--------------------------------------------------------------------------------------------------------------------------------------------------+------+\n|Nature_of_Payment_or_Transfer_of_Value                                                                                                            |Count |\n+--------------------------------------------------------------------------------------------------------------------------------------------------+------+\n|Compensation for services other than consulting, including serving as faculty or as a speaker at a venue other than a continuing education program|164092|\n|Consulting Fee                                                                                                                                    |105228|\n|Travel and Lodging                                                                                                                                |24738 |\n|Honoraria                                                                                                                                         |13750 |\n|Education                                                                                                                                         |13376 |\n|Royalty or License                                                                                                                                |11534 |\n|Compensation for serving as faculty or as a speaker for a medical education program                                                               |8658  |\n|Grant                                                                                                                                             |4922  |\n|Space rental or facility fees (teaching hospital only)                                                                                            |4917  |\n|Long term medical supply or device loan                                                                                                           |2930  |\n+--------------------------------------------------------------------------------------------------------------------------------------------------+------+\nonly showing top 10 rows\n\n"
     ]
    }
   ],
   "source": [
    "from pyspark.sql.functions import col\n",
    "\n",
    "df_filtered = df.filter(col(\"Total_Amount_of_Payment_USDollars\") > 1000)\n",
    "df_filtered.groupBy(\"Nature_of_Payment_or_Transfer_of_Value\") \\\n",
    "    .agg(count(\"*\").alias(\"Count\")) \\\n",
    "    .orderBy(col(\"Count\").desc()) \\\n",
    "    .show(10, truncate=False)\n"
   ]
  },
  {
   "cell_type": "code",
   "execution_count": 0,
   "metadata": {
    "application/vnd.databricks.v1+cell": {
     "cellMetadata": {
      "byteLimit": 2048000,
      "rowLimit": 10000
     },
     "inputWidgets": {},
     "nuid": "21f05520-e041-457c-9d05-d99a7a87315c",
     "showTitle": false,
     "tableResultSettingsMap": {},
     "title": ""
    }
   },
   "outputs": [
    {
     "output_type": "stream",
     "name": "stdout",
     "output_type": "stream",
     "text": [
      "+--------------------------------------------------------------------------------------------------------------------------------------------------+--------+\n|Nature_of_Payment_or_Transfer_of_Value                                                                                                            |Count   |\n+--------------------------------------------------------------------------------------------------------------------------------------------------+--------+\n|Food and Beverage                                                                                                                                 |13378464|\n|Travel and Lodging                                                                                                                                |545086  |\n|Compensation for services other than consulting, including serving as faculty or as a speaker at a venue other than a continuing education program|236628  |\n|Consulting Fee                                                                                                                                    |170630  |\n|Education                                                                                                                                         |161078  |\n|Gift                                                                                                                                              |31786   |\n|Honoraria                                                                                                                                         |20232   |\n|Royalty or License                                                                                                                                |15865   |\n|Compensation for serving as faculty or as a speaker for a medical education program                                                               |12234   |\n|Entertainment                                                                                                                                     |7967    |\n+--------------------------------------------------------------------------------------------------------------------------------------------------+--------+\nonly showing top 10 rows\n\n"
     ]
    }
   ],
   "source": [
    "df.groupBy(\"Nature_of_Payment_or_Transfer_of_Value\") \\\n",
    "    .agg(count(\"*\").alias(\"Count\")) \\\n",
    "    .orderBy(col(\"Count\").desc()) \\\n",
    "    .show(10, truncate=False)\n"
   ]
  },
  {
   "cell_type": "code",
   "execution_count": 0,
   "metadata": {
    "application/vnd.databricks.v1+cell": {
     "cellMetadata": {
      "byteLimit": 2048000,
      "rowLimit": 10000
     },
     "inputWidgets": {},
     "nuid": "056f2733-9320-4d78-8621-b8d1f6a36eea",
     "showTitle": false,
     "tableResultSettingsMap": {},
     "title": ""
    }
   },
   "outputs": [
    {
     "output_type": "stream",
     "name": "stdout",
     "output_type": "stream",
     "text": [
      "+--------------------------------------------------------------------------------------------------------------------------------------------------+--------------------+\n|Nature_of_Payment_or_Transfer_of_Value                                                                                                            |Total_Amount        |\n+--------------------------------------------------------------------------------------------------------------------------------------------------+--------------------+\n|Royalty or License                                                                                                                                |1.1921745630200038E9|\n|Compensation for services other than consulting, including serving as faculty or as a speaker at a venue other than a continuing education program|5.946326876500018E8 |\n|Consulting Fee                                                                                                                                    |5.148558758999997E8 |\n|Food and Beverage                                                                                                                                 |3.744878240099856E8 |\n|Travel and Lodging                                                                                                                                |1.7954842377999967E8|\n|Grant                                                                                                                                             |1.1188856182E8      |\n|Acquisitions                                                                                                                                      |7.192577675999999E7 |\n|Education                                                                                                                                         |6.469532594000477E7 |\n|Honoraria                                                                                                                                         |5.585182388999998E7 |\n|Long term medical supply or device loan                                                                                                           |3.0098791950000003E7|\n+--------------------------------------------------------------------------------------------------------------------------------------------------+--------------------+\nonly showing top 10 rows\n\n"
     ]
    }
   ],
   "source": [
    "df_payments.groupBy(\"Nature_of_Payment_or_Transfer_of_Value\") \\\n",
    "    .agg(sum(\"Total_Amount_of_Payment_USDollars\").alias(\"Total_Amount\")) \\\n",
    "    .orderBy(desc(\"Total_Amount\")) \\\n",
    "    .show(10, truncate=False)\n",
    "\n",
    "\n"
   ]
  },
  {
   "cell_type": "code",
   "execution_count": 0,
   "metadata": {
    "application/vnd.databricks.v1+cell": {
     "cellMetadata": {
      "byteLimit": 2048000,
      "rowLimit": 10000
     },
     "inputWidgets": {},
     "nuid": "a1eda74e-19d7-43d8-b245-f13c6c85ce96",
     "showTitle": false,
     "tableResultSettingsMap": {},
     "title": ""
    }
   },
   "outputs": [
    {
     "output_type": "stream",
     "name": "stdout",
     "output_type": "stream",
     "text": [
      "+------------------------------------------------------------------------------------------------+--------------------+\n|Covered_Recipient_Profile_Primary_Specialty                                                     |Total_Amount        |\n+------------------------------------------------------------------------------------------------+--------------------+\n|Allopathic & Osteopathic Physicians|Orthopaedic Surgery                                         |3.7775559615999675E8|\n|Allopathic & Osteopathic Physicians|Psychiatry & Neurology|Neurology                            |8.680715037000027E7 |\n|Allopathic & Osteopathic Physicians|Neurological Surgery                                        |8.58704690299999E7  |\n|Allopathic & Osteopathic Physicians|Dermatology                                                 |8.076589144000065E7 |\n|null                                                                                            |7.78133707000009E7  |\n|Allopathic & Osteopathic Physicians|Orthopaedic Surgery|Adult Reconstructive Orthopaedic Surgery|7.277526618000007E7 |\n|Allopathic & Osteopathic Physicians|Internal Medicine|Hematology & Oncology                     |6.576093498000095E7 |\n|Allopathic & Osteopathic Physicians|Internal Medicine                                           |6.5698652640001245E7|\n|Allopathic & Osteopathic Physicians|Psychiatry & Neurology|Psychiatry                           |6.548150061000077E7 |\n|Allopathic & Osteopathic Physicians|Internal Medicine|Cardiovascular Disease                    |6.305718157000022E7 |\n+------------------------------------------------------------------------------------------------+--------------------+\nonly showing top 10 rows\n\n"
     ]
    }
   ],
   "source": [
    "from pyspark.sql.functions import col, sum, desc\n",
    "\n",
    "# Reload the recipients table with proper headers if needed\n",
    "df_recipients = spark.read.csv(\"dbfs:/FileStore/shared_uploads/asritha.suraparaju@slu.edu/OP_CVRD_RCPNT_PRFL_SPLMTL_P01302025_01212025.csv\", \n",
    "                               header=True, inferSchema=True)\n",
    "\n",
    "# Join Payments and Recipients on Profile ID\n",
    "df_specialty = df_payments.join(df_recipients, \n",
    "                                df_payments[\"Covered_Recipient_Profile_ID\"] == df_recipients[\"Covered_Recipient_Profile_ID\"], \n",
    "                                \"inner\")\n",
    "\n",
    "# Group by Specialty and Sum Payments\n",
    "df_specialty.groupBy(\"Covered_Recipient_Profile_Primary_Specialty\") \\\n",
    "    .agg(sum(\"Total_Amount_of_Payment_USDollars\").alias(\"Total_Amount\")) \\\n",
    "    .orderBy(desc(\"Total_Amount\")) \\\n",
    "    .show(10, truncate=False)\n",
    "\n",
    "\n",
    "\n",
    "\n"
   ]
  },
  {
   "cell_type": "code",
   "execution_count": 0,
   "metadata": {
    "application/vnd.databricks.v1+cell": {
     "cellMetadata": {
      "byteLimit": 2048000,
      "rowLimit": 10000
     },
     "inputWidgets": {},
     "nuid": "4f4eef97-c26c-4dab-ba5b-1d774bb0a64f",
     "showTitle": false,
     "tableResultSettingsMap": {},
     "title": ""
    }
   },
   "outputs": [
    {
     "output_type": "stream",
     "name": "stdout",
     "output_type": "stream",
     "text": [
      "root\n |-- Change_Type: string (nullable = true)\n |-- Covered_Recipient_Type: string (nullable = true)\n |-- Teaching_Hospital_CCN: string (nullable = true)\n |-- Teaching_Hospital_ID: string (nullable = true)\n |-- Teaching_Hospital_Name: string (nullable = true)\n |-- Covered_Recipient_Profile_ID: string (nullable = true)\n |-- Covered_Recipient_NPI: string (nullable = true)\n |-- Covered_Recipient_First_Name: string (nullable = true)\n |-- Covered_Recipient_Middle_Name: string (nullable = true)\n |-- Covered_Recipient_Last_Name: string (nullable = true)\n |-- Covered_Recipient_Name_Suffix: string (nullable = true)\n |-- Recipient_Primary_Business_Street_Address_Line1: string (nullable = true)\n |-- Recipient_Primary_Business_Street_Address_Line2: string (nullable = true)\n |-- Recipient_City: string (nullable = true)\n |-- Recipient_State: string (nullable = true)\n |-- Recipient_Zip_Code: string (nullable = true)\n |-- Recipient_Country: string (nullable = true)\n |-- Recipient_Province: string (nullable = true)\n |-- Recipient_Postal_Code: string (nullable = true)\n |-- Covered_Recipient_Primary_Type_1: string (nullable = true)\n |-- Covered_Recipient_Primary_Type_2: string (nullable = true)\n |-- Covered_Recipient_Primary_Type_3: string (nullable = true)\n |-- Covered_Recipient_Primary_Type_4: string (nullable = true)\n |-- Covered_Recipient_Primary_Type_5: string (nullable = true)\n |-- Covered_Recipient_Primary_Type_6: string (nullable = true)\n |-- Covered_Recipient_Specialty_1: string (nullable = true)\n |-- Covered_Recipient_Specialty_2: string (nullable = true)\n |-- Covered_Recipient_Specialty_3: string (nullable = true)\n |-- Covered_Recipient_Specialty_4: string (nullable = true)\n |-- Covered_Recipient_Specialty_5: string (nullable = true)\n |-- Covered_Recipient_Specialty_6: string (nullable = true)\n |-- Covered_Recipient_License_State_code1: string (nullable = true)\n |-- Covered_Recipient_License_State_code2: string (nullable = true)\n |-- Covered_Recipient_License_State_code3: string (nullable = true)\n |-- Covered_Recipient_License_State_code4: string (nullable = true)\n |-- Covered_Recipient_License_State_code5: string (nullable = true)\n |-- Submitting_Applicable_Manufacturer_or_Applicable_GPO_Name: string (nullable = true)\n |-- Applicable_Manufacturer_or_Applicable_GPO_Making_Payment_ID: string (nullable = true)\n |-- Applicable_Manufacturer_or_Applicable_GPO_Making_Payment_Name: string (nullable = true)\n |-- Applicable_Manufacturer_or_Applicable_GPO_Making_Payment_State: string (nullable = true)\n |-- Applicable_Manufacturer_or_Applicable_GPO_Making_Payment_Country: string (nullable = true)\n |-- Total_Amount_of_Payment_USDollars: string (nullable = true)\n |-- Date_of_Payment: string (nullable = true)\n |-- Number_of_Payments_Included_in_Total_Amount: string (nullable = true)\n |-- Form_of_Payment_or_Transfer_of_Value: string (nullable = true)\n |-- Nature_of_Payment_or_Transfer_of_Value: string (nullable = true)\n |-- City_of_Travel: string (nullable = true)\n |-- State_of_Travel: string (nullable = true)\n |-- Country_of_Travel: string (nullable = true)\n |-- Physician_Ownership_Indicator: string (nullable = true)\n |-- Third_Party_Payment_Recipient_Indicator: string (nullable = true)\n |-- Name_of_Third_Party_Entity_Receiving_Payment_or_Transfer_of_Value: string (nullable = true)\n |-- Charity_Indicator: string (nullable = true)\n |-- Third_Party_Equals_Covered_Recipient_Indicator: string (nullable = true)\n |-- Contextual_Information: string (nullable = true)\n |-- Delay_in_Publication_Indicator: string (nullable = true)\n |-- Record_ID: string (nullable = true)\n |-- Dispute_Status_for_Publication: string (nullable = true)\n |-- Related_Product_Indicator: string (nullable = true)\n |-- Covered_or_Noncovered_Indicator_1: string (nullable = true)\n |-- Indicate_Drug_or_Biological_or_Device_or_Medical_Supply_1: string (nullable = true)\n |-- Product_Category_or_Therapeutic_Area_1: string (nullable = true)\n |-- Name_of_Drug_or_Biological_or_Device_or_Medical_Supply_1: string (nullable = true)\n |-- Associated_Drug_or_Biological_NDC_1: string (nullable = true)\n |-- Associated_Device_or_Medical_Supply_PDI_1: string (nullable = true)\n |-- Covered_or_Noncovered_Indicator_2: string (nullable = true)\n |-- Indicate_Drug_or_Biological_or_Device_or_Medical_Supply_2: string (nullable = true)\n |-- Product_Category_or_Therapeutic_Area_2: string (nullable = true)\n |-- Name_of_Drug_or_Biological_or_Device_or_Medical_Supply_2: string (nullable = true)\n |-- Associated_Drug_or_Biological_NDC_2: string (nullable = true)\n |-- Associated_Device_or_Medical_Supply_PDI_2: string (nullable = true)\n |-- Covered_or_Noncovered_Indicator_3: string (nullable = true)\n |-- Indicate_Drug_or_Biological_or_Device_or_Medical_Supply_3: string (nullable = true)\n |-- Product_Category_or_Therapeutic_Area_3: string (nullable = true)\n |-- Name_of_Drug_or_Biological_or_Device_or_Medical_Supply_3: string (nullable = true)\n |-- Associated_Drug_or_Biological_NDC_3: string (nullable = true)\n |-- Associated_Device_or_Medical_Supply_PDI_3: string (nullable = true)\n |-- Covered_or_Noncovered_Indicator_4: string (nullable = true)\n |-- Indicate_Drug_or_Biological_or_Device_or_Medical_Supply_4: string (nullable = true)\n |-- Product_Category_or_Therapeutic_Area_4: string (nullable = true)\n |-- Name_of_Drug_or_Biological_or_Device_or_Medical_Supply_4: string (nullable = true)\n |-- Associated_Drug_or_Biological_NDC_4: string (nullable = true)\n |-- Associated_Device_or_Medical_Supply_PDI_4: string (nullable = true)\n |-- Covered_or_Noncovered_Indicator_5: string (nullable = true)\n |-- Indicate_Drug_or_Biological_or_Device_or_Medical_Supply_5: string (nullable = true)\n |-- Product_Category_or_Therapeutic_Area_5: string (nullable = true)\n |-- Name_of_Drug_or_Biological_or_Device_or_Medical_Supply_5: string (nullable = true)\n |-- Associated_Drug_or_Biological_NDC_5: string (nullable = true)\n |-- Associated_Device_or_Medical_Supply_PDI_5: string (nullable = true)\n |-- Program_Year: integer (nullable = true)\n |-- Payment_Publication_Date: string (nullable = true)\n\nUnexpected exception formatting exception. Falling back to standard exception\n"
     ]
    },
    {
     "output_type": "stream",
     "name": "stderr",
     "output_type": "stream",
     "text": [
      "Traceback (most recent call last):\n  File \"/databricks/python/lib/python3.9/site-packages/IPython/core/interactiveshell.py\", line 3378, in run_code\n    exec(code_obj, self.user_global_ns, self.user_ns)\n  File \"<command-969588386769765>\", line 13, in <module>\n    df_physicians = df_payments.withColumn(\"Physician_Full_Name\",\n  File \"/databricks/spark/python/pyspark/instrumentation_utils.py\", line 48, in wrapper\n    res = func(*args, **kwargs)\n  File \"/databricks/spark/python/pyspark/sql/dataframe.py\", line 4758, in withColumn\n    return DataFrame(self._jdf.withColumn(colName, col._jc), self.sparkSession)\n  File \"/databricks/spark/python/lib/py4j-0.10.9.5-src.zip/py4j/java_gateway.py\", line 1321, in __call__\n    return_value = get_return_value(\n  File \"/databricks/spark/python/pyspark/errors/exceptions.py\", line 234, in deco\n    raise converted from None\npyspark.errors.exceptions.AnalysisException: [UNRESOLVED_COLUMN.WITH_SUGGESTION] A column or function parameter with name `Covered_Recipient_Profile_First_Name` cannot be resolved. Did you mean one of the following? [`Covered_Recipient_First_Name`, `Covered_Recipient_Profile_ID`, `Covered_Recipient_Last_Name`, `Covered_Recipient_Middle_Name`, `Covered_Recipient_Primary_Type_1`].;\n'Project [Change_Type#16965, Covered_Recipient_Type#16966, Teaching_Hospital_CCN#16967, Teaching_Hospital_ID#16968, Teaching_Hospital_Name#16969, Covered_Recipient_Profile_ID#16970, Covered_Recipient_NPI#16971, Covered_Recipient_First_Name#16972, Covered_Recipient_Middle_Name#16973, Covered_Recipient_Last_Name#16974, Covered_Recipient_Name_Suffix#16975, Recipient_Primary_Business_Street_Address_Line1#16976, Recipient_Primary_Business_Street_Address_Line2#16977, Recipient_City#16978, Recipient_State#16979, Recipient_Zip_Code#16980, Recipient_Country#16981, Recipient_Province#16982, Recipient_Postal_Code#16983, Covered_Recipient_Primary_Type_1#16984, Covered_Recipient_Primary_Type_2#16985, Covered_Recipient_Primary_Type_3#16986, Covered_Recipient_Primary_Type_4#16987, Covered_Recipient_Primary_Type_5#16988, ... 68 more fields]\n+- Relation [Change_Type#16965,Covered_Recipient_Type#16966,Teaching_Hospital_CCN#16967,Teaching_Hospital_ID#16968,Teaching_Hospital_Name#16969,Covered_Recipient_Profile_ID#16970,Covered_Recipient_NPI#16971,Covered_Recipient_First_Name#16972,Covered_Recipient_Middle_Name#16973,Covered_Recipient_Last_Name#16974,Covered_Recipient_Name_Suffix#16975,Recipient_Primary_Business_Street_Address_Line1#16976,Recipient_Primary_Business_Street_Address_Line2#16977,Recipient_City#16978,Recipient_State#16979,Recipient_Zip_Code#16980,Recipient_Country#16981,Recipient_Province#16982,Recipient_Postal_Code#16983,Covered_Recipient_Primary_Type_1#16984,Covered_Recipient_Primary_Type_2#16985,Covered_Recipient_Primary_Type_3#16986,Covered_Recipient_Primary_Type_4#16987,Covered_Recipient_Primary_Type_5#16988,... 67 more fields] csv\n\n\nDuring handling of the above exception, another exception occurred:\n\nTraceback (most recent call last):\n  File \"/databricks/python/lib/python3.9/site-packages/IPython/core/interactiveshell.py\", line 1997, in showtraceback\n    stb = self.InteractiveTB.structured_traceback(\n  File \"/databricks/python/lib/python3.9/site-packages/IPython/core/ultratb.py\", line 1112, in structured_traceback\n    return FormattedTB.structured_traceback(\n  File \"/databricks/python/lib/python3.9/site-packages/IPython/core/ultratb.py\", line 1006, in structured_traceback\n    return VerboseTB.structured_traceback(\n  File \"/databricks/python/lib/python3.9/site-packages/IPython/core/ultratb.py\", line 859, in structured_traceback\n    formatted_exception = self.format_exception_as_a_whole(etype, evalue, etb, number_of_lines_of_context,\n  File \"/databricks/python/lib/python3.9/site-packages/IPython/core/ultratb.py\", line 812, in format_exception_as_a_whole\n    frames.append(self.format_record(r))\n  File \"/databricks/python/lib/python3.9/site-packages/IPython/core/ultratb.py\", line 730, in format_record\n    result += ''.join(_format_traceback_lines(frame_info.lines, Colors, self.has_colors, lvals))\n  File \"/databricks/python/lib/python3.9/site-packages/stack_data/utils.py\", line 145, in cached_property_wrapper\n    value = obj.__dict__[self.func.__name__] = self.func(obj)\n  File \"/databricks/python/lib/python3.9/site-packages/stack_data/core.py\", line 698, in lines\n    pieces = self.included_pieces\n  File \"/databricks/python/lib/python3.9/site-packages/stack_data/utils.py\", line 145, in cached_property_wrapper\n    value = obj.__dict__[self.func.__name__] = self.func(obj)\n  File \"/databricks/python/lib/python3.9/site-packages/stack_data/core.py\", line 649, in included_pieces\n    pos = scope_pieces.index(self.executing_piece)\n  File \"/databricks/python/lib/python3.9/site-packages/stack_data/utils.py\", line 145, in cached_property_wrapper\n    value = obj.__dict__[self.func.__name__] = self.func(obj)\n  File \"/databricks/python/lib/python3.9/site-packages/stack_data/core.py\", line 628, in executing_piece\n    return only(\n  File \"/databricks/python/lib/python3.9/site-packages/executing/executing.py\", line 164, in only\n    raise NotOneValueFound('Expected one value, found 0')\nexecuting.executing.NotOneValueFound: Expected one value, found 0\n"
     ]
    },
    {
     "output_type": "display_data",
     "data": {
      "text/plain": [
       ""
      ]
     },
     "metadata": {
      "application/vnd.databricks.v1+output": {
       "arguments": {},
       "data": "",
       "errorSummary": "<span class='ansi-red-fg'>AnalysisException</span>: [UNRESOLVED_COLUMN.WITH_SUGGESTION] A column or function parameter with name `Covered_Recipient_Profile_First_Name` cannot be resolved. Did you mean one of the following? [`Covered_Recipient_First_Name`, `Covered_Recipient_Profile_ID`, `Covered_Recipient_Last_Name`, `Covered_Recipient_Middle_Name`, `Covered_Recipient_Primary_Type_1`].;\n'Project [Change_Type#16965, Covered_Recipient_Type#16966, Teaching_Hospital_CCN#16967, Teaching_Hospital_ID#16968, Teaching_Hospital_Name#16969, Covered_Recipient_Profile_ID#16970, Covered_Recipient_NPI#16971, Covered_Recipient_First_Name#16972, Covered_Recipient_Middle_Name#16973, Covered_Recipient_Last_Name#16974, Covered_Recipient_Name_Suffix#16975, Recipient_Primary_Business_Street_Address_Line1#16976, Recipient_Primary_Business_Street_Address_Line2#16977, Recipient_City#16978, Recipient_State#16979, Recipient_Zip_Code#16980, Recipient_Country#16981, Recipient_Province#16982, Recipient_Postal_Code#16983, Covered_Recipient_Primary_Type_1#16984, Covered_Recipient_Primary_Type_2#16985, Covered_Recipient_Primary_Type_3#16986, Covered_Recipient_Primary_Type_4#16987, Covered_Recipient_Primary_Type_5#16988, ... 68 more fields]\n+- Relation [Change_Type#16965,Covered_Recipient_Type#16966,Teaching_Hospital_CCN#16967,Teaching_Hospital_ID#16968,Teaching_Hospital_Name#16969,Covered_Recipient_Profile_ID#16970,Covered_Recipient_NPI#16971,Covered_Recipient_First_Name#16972,Covered_Recipient_Middle_Name#16973,Covered_Recipient_Last_Name#16974,Covered_Recipient_Name_Suffix#16975,Recipient_Primary_Business_Street_Address_Line1#16976,Recipient_Primary_Business_Street_Address_Line2#16977,Recipient_City#16978,Recipient_State#16979,Recipient_Zip_Code#16980,Recipient_Country#16981,Recipient_Province#16982,Recipient_Postal_Code#16983,Covered_Recipient_Primary_Type_1#16984,Covered_Recipient_Primary_Type_2#16985,Covered_Recipient_Primary_Type_3#16986,Covered_Recipient_Primary_Type_4#16987,Covered_Recipient_Primary_Type_5#16988,... 67 more fields] csv\n",
       "errorTraceType": "ansi",
       "metadata": {},
       "type": "ipynbError"
      }
     },
     "output_type": "display_data"
    }
   ],
   "source": [
    "from pyspark.sql.functions import col, sum, desc\n",
    "\n",
    "from pyspark.sql.functions import col, sum, desc, concat_ws\n",
    "\n",
    "# Ensure df_payments is loaded correctly with header and schema inference\n",
    "df_payments = spark.read.csv(\"file:/tmp/openpayments_2023/OP_DTL_GNRL_PGYR2023_P01302025_01212025.csv\", \n",
    "                             header=True, inferSchema=True)\n",
    "\n",
    "# Check column names\n",
    "df_payments.printSchema()\n",
    "\n",
    "# Create a Full Name Column for Clarity\n",
    "df_physicians = df_payments.withColumn(\"Physician_Full_Name\", \n",
    "                                       concat_ws(\" \", col(\"Covered_Recipient_Profile_First_Name\"), \n",
    "                                                    col(\"Covered_Recipient_Profile_Last_Name\")))\n",
    "\n",
    "# Group by Physician Name and Sum Payments\n",
    "df_physicians.groupBy(\"Physician_Full_Name\") \\\n",
    "    .agg(sum(col(\"Total_Amount_of_Payment_USDollars\")).alias(\"Total_Amount\")) \\\n",
    "    .orderBy(desc(\"Total_Amount\")) \\\n",
    "    .show(10, truncate=False)\n",
    "\n",
    "\n",
    "\n",
    "\n"
   ]
  }
 ],
 "metadata": {
  "application/vnd.databricks.v1+notebook": {
   "computePreferences": null,
   "dashboards": [],
   "environmentMetadata": {
    "base_environment": "",
    "client": "1"
   },
   "language": "python",
   "notebookMetadata": {
    "pythonIndentUnit": 4
   },
   "notebookName": "Untitled Notebook 2025-03-23 21:01:49",
   "widgets": {}
  }
 },
 "nbformat": 4,
 "nbformat_minor": 0
}
