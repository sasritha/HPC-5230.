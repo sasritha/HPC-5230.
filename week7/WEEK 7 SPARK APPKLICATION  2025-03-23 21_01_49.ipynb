{
 "cells": [
  {
   "cell_type": "code",
   "execution_count": 0,
   "metadata": {
    "application/vnd.databricks.v1+cell": {
     "cellMetadata": {
      "byteLimit": 2048000,
      "rowLimit": 10000
     },
     "inputWidgets": {},
     "nuid": "0d0f35e8-b14d-45d4-b373-e508acf25224",
     "showTitle": false,
     "tableResultSettingsMap": {},
     "title": ""
    }
   },
   "outputs": [
    {
     "output_type": "stream",
     "name": "stderr",
     "output_type": "stream",
     "text": [
      "  % Total    % Received % Xferd  Average Speed   Time    Time     Time  Current\n                                 Dload  Upload   Total   Spent    Left  Speed\n\r  0     0    0     0    0     0      0      0 --:--:-- --:--:-- --:--:--     0\r  2  752M    2 18.0M    0     0  18.1M      0  0:00:41 --:--:--  0:00:41 18.1M\r  5  752M    5 44.0M    0     0  22.1M      0  0:00:33  0:00:01  0:00:32 22.1M\r 12  752M   12 91.0M    0     0  30.6M      0  0:00:24  0:00:02  0:00:22 30.6M\r 15  752M   15  117M    0     0  29.5M      0  0:00:25  0:00:03  0:00:22 29.4M\r 22  752M   22  166M    0     0  33.0M      0  0:00:22  0:00:05  0:00:17 33.0M\r 27  752M   27  208M    0     0  34.9M      0  0:00:21  0:00:05  0:00:16 38.3M\r 32  752M   32  242M    0     0  34.7M      0  0:00:21  0:00:06  0:00:15 39.8M\r 37  752M   37  280M    0     0  35.0M      0  0:00:21  0:00:07  0:00:14 37.7M\r 43  752M   43  326M    0     0  36.2M      0  0:00:20  0:00:08  0:00:12 41.5M\r 48  752M   48  366M    0     0  36.6M      0  0:00:20  0:00:09  0:00:11 40.4M\r 53  752M   53  404M    0     0  36.8M      0  0:00:20  0:00:10  0:00:10 39.0M\r 58  752M   58  442M    0     0  36.8M      0  0:00:20  0:00:11  0:00:09 39.7M\r 65  752M   65  490M    0     0  37.7M      0  0:00:19  0:00:12  0:00:07 42.1M\r 70  752M   70  530M    0     0  37.9M      0  0:00:19  0:00:13  0:00:06 40.9M\r 73  752M   73  552M    0     0  36.8M      0  0:00:20  0:00:14  0:00:06 37.2M\r 80  752M   80  608M    0     0  38.0M      0  0:00:19  0:00:15  0:00:04 40.7M\r 87  752M   87  660M    0     0  38.8M      0  0:00:19  0:00:16  0:00:03 43.6M\r 94  752M   94  710M    0     0  39.5M      0  0:00:19  0:00:17  0:00:02 44.1M\r100  752M  100  752M    0     0  40.2M      0  0:00:18  0:00:18 --:--:-- 47.1M\n"
     ]
    },
    {
     "output_type": "stream",
     "name": "stdout",
     "output_type": "stream",
     "text": [
      "Archive:  /tmp/openpayments_2023.zip\n  inflating: /tmp/openpayments_2023/OP_PGYR2023_README_P01302025.txt  \n  inflating: /tmp/openpayments_2023/OP_DTL_OWNRSHP_PGYR2023_P01302025_01212025.csv  \n  inflating: /tmp/openpayments_2023/OP_DTL_GNRL_PGYR2023_P01302025_01212025.csv  \n  inflating: /tmp/openpayments_2023/OP_DTL_RSRCH_PGYR2023_P01302025_01212025.csv  \n  inflating: /tmp/openpayments_2023/OP_REMOVED_DELETED_PGYR2023_P01302025_01212025.csv  \n"
     ]
    }
   ],
   "source": [
    "%%sh\n",
    "# Download the CMS Open Payments ZIP file\n",
    "curl -L https://download.cms.gov/openpayments/PGYR2023_P01302025_01212025.zip -o /tmp/openpayments_2023.zip\n",
    "\n",
    "# Unzip the file to a directory, force overwriting existing files without prompting\n",
    "unzip -o /tmp/openpayments_2023.zip -d /tmp/openpayments_2023"
   ]
  },
  {
   "cell_type": "code",
   "execution_count": 0,
   "metadata": {
    "application/vnd.databricks.v1+cell": {
     "cellMetadata": {
      "byteLimit": 2048000,
      "rowLimit": 10000
     },
     "inputWidgets": {},
     "nuid": "785175b1-4422-402f-938a-fa1e38d5668f",
     "showTitle": false,
     "tableResultSettingsMap": {},
     "title": ""
    }
   },
   "outputs": [],
   "source": [
    "# Importing required libraries\n",
    "import os\n",
    "from pyspark.sql import SparkSession\n",
    "from pyspark.sql.functions import col, sum, desc, count"
   ]
  },
  {
   "cell_type": "code",
   "execution_count": 0,
   "metadata": {
    "application/vnd.databricks.v1+cell": {
     "cellMetadata": {
      "byteLimit": 2048000,
      "rowLimit": 10000
     },
     "inputWidgets": {},
     "nuid": "ac6a06b2-c331-4b59-98e3-72aa381e5f8f",
     "showTitle": false,
     "tableResultSettingsMap": {},
     "title": ""
    }
   },
   "outputs": [
    {
     "output_type": "stream",
     "name": "stdout",
     "output_type": "stream",
     "text": [
      "Out[3]: ['OP_PGYR2023_README_P01302025.txt',\n 'OP_REMOVED_DELETED_PGYR2023_P01302025_01212025.csv',\n 'OP_DTL_OWNRSHP_PGYR2023_P01302025_01212025.csv',\n 'OP_DTL_GNRL_PGYR2023_P01302025_01212025.csv',\n 'OP_DTL_RSRCH_PGYR2023_P01302025_01212025.csv']"
     ]
    }
   ],
   "source": [
    "import os\n",
    "\n",
    "# List the extracted files\n",
    "os.listdir(\"/tmp/openpayments_2023\")"
   ]
  },
  {
   "cell_type": "code",
   "execution_count": 0,
   "metadata": {
    "application/vnd.databricks.v1+cell": {
     "cellMetadata": {
      "byteLimit": 2048000,
      "rowLimit": 10000
     },
     "inputWidgets": {},
     "nuid": "15c8996a-7314-4e1d-a054-5026f83add88",
     "showTitle": false,
     "tableResultSettingsMap": {},
     "title": ""
    }
   },
   "outputs": [],
   "source": [
    "# Reading the CSV file into a Spark DataFrame\n",
    "df = spark.read.csv(\"file:/tmp/openpayments_2023/OP_DTL_GNRL_PGYR2023_P01302025_01212025.csv\", header=True, inferSchema=True)\n",
    "\n",
    "# Saving it as a Delta table\n",
    "df.write \\\n",
    "    .format(\"delta\") \\\n",
    "    .mode(\"overwrite\") \\\n",
    "    .saveAsTable(\"asritha_week7_General_openPays_2023\")"
   ]
  },
  {
   "cell_type": "code",
   "execution_count": 0,
   "metadata": {
    "application/vnd.databricks.v1+cell": {
     "cellMetadata": {
      "byteLimit": 2048000,
      "rowLimit": 10000
     },
     "inputWidgets": {},
     "nuid": "7b9eeb72-7fcb-4b9b-9509-fa5b4187a435",
     "showTitle": false,
     "tableResultSettingsMap": {},
     "title": ""
    }
   },
   "outputs": [],
   "source": [
    "# Reading the CSV file into a Spark DataFrame\n",
    "df = spark.read.csv(\"dbfs:/FileStore/shared_uploads/asritha.suraparaju@slu.edu/OP_CVRD_RCPNT_PRFL_SPLMTL_P01302025_01212025-1.csv\", header=True, inferSchema=True)\n",
    "\n",
    "# Saving it as a Delta table (use underscores instead of spaces)\n",
    "df.write \\\n",
    "    .format(\"delta\") \\\n",
    "    .option(\"mergeSchema\", \"true\") \\\n",
    "    .mode(\"overwrite\") \\\n",
    "    .saveAsTable(\"Cp_covered_recipients\")\n"
   ]
  },
  {
   "cell_type": "code",
   "execution_count": 0,
   "metadata": {
    "application/vnd.databricks.v1+cell": {
     "cellMetadata": {
      "byteLimit": 2048000,
      "rowLimit": 10000
     },
     "inputWidgets": {},
     "nuid": "fb50038a-931a-4e70-9b9c-0e92703108e5",
     "showTitle": false,
     "tableResultSettingsMap": {},
     "title": ""
    }
   },
   "outputs": [
    {
     "output_type": "stream",
     "name": "stdout",
     "output_type": "stream",
     "text": [
      "+--------------------------------------------------------------------------------------------------------------------------------------------------+------+\n|Nature_of_Payment_or_Transfer_of_Value                                                                                                            |count |\n+--------------------------------------------------------------------------------------------------------------------------------------------------+------+\n|Compensation for services other than consulting, including serving as faculty or as a speaker at a venue other than a continuing education program|164092|\n|Consulting Fee                                                                                                                                    |105228|\n|Travel and Lodging                                                                                                                                |24738 |\n|Honoraria                                                                                                                                         |13750 |\n|Education                                                                                                                                         |13376 |\n|Royalty or License                                                                                                                                |11534 |\n|Compensation for serving as faculty or as a speaker for a medical education program                                                               |8658  |\n|Grant                                                                                                                                             |4922  |\n|Space rental or facility fees (teaching hospital only)                                                                                            |4917  |\n|Long term medical supply or device loan                                                                                                           |2930  |\n+--------------------------------------------------------------------------------------------------------------------------------------------------+------+\nonly showing top 10 rows\n\n"
     ]
    }
   ],
   "source": [
    "from pyspark.sql.functions import col\n",
    "# 1. Nature of Payments with reimbursement amounts greater than $1,000, ordered by count\n",
    "df_general = spark.read.table(\"asritha_week7_General_openPays_2023\")\n",
    "\n",
    "df_general.filter(col(\"Total_Amount_of_Payment_USDollars\") > 1000) \\\n",
    "    .groupBy(\"Nature_of_Payment_or_Transfer_of_Value\") \\\n",
    "    .count() \\\n",
    "    .orderBy(col(\"count\").desc()) \\\n",
    "    .show(10, False)\n"
   ]
  },
  {
   "cell_type": "code",
   "execution_count": 0,
   "metadata": {
    "application/vnd.databricks.v1+cell": {
     "cellMetadata": {
      "byteLimit": 2048000,
      "rowLimit": 10000
     },
     "inputWidgets": {},
     "nuid": "056f2733-9320-4d78-8621-b8d1f6a36eea",
     "showTitle": false,
     "tableResultSettingsMap": {},
     "title": ""
    }
   },
   "outputs": [
    {
     "output_type": "stream",
     "name": "stdout",
     "output_type": "stream",
     "text": [
      "+--------------------------------------------------------------------------------------------------------------------------------------------------+--------+\n|Nature_of_Payment_or_Transfer_of_Value                                                                                                            |count   |\n+--------------------------------------------------------------------------------------------------------------------------------------------------+--------+\n|Food and Beverage                                                                                                                                 |13378464|\n|Travel and Lodging                                                                                                                                |545086  |\n|Compensation for services other than consulting, including serving as faculty or as a speaker at a venue other than a continuing education program|236628  |\n|Consulting Fee                                                                                                                                    |170630  |\n|Education                                                                                                                                         |161078  |\n|Gift                                                                                                                                              |31786   |\n|Honoraria                                                                                                                                         |20232   |\n|Royalty or License                                                                                                                                |15865   |\n|Compensation for serving as faculty or as a speaker for a medical education program                                                               |12234   |\n|Entertainment                                                                                                                                     |7967    |\n+--------------------------------------------------------------------------------------------------------------------------------------------------+--------+\nonly showing top 10 rows\n\n"
     ]
    }
   ],
   "source": [
    "\n",
    "#Top 10 Nature of Payments by count\n",
    "df_general.groupBy(\"Nature_of_Payment_or_Transfer_of_Value\") \\\n",
    "    .count() \\\n",
    "    .orderBy(col(\"count\").desc()) \\\n",
    "    .show(10, False)\n",
    "\n",
    "\n"
   ]
  },
  {
   "cell_type": "code",
   "execution_count": 0,
   "metadata": {
    "application/vnd.databricks.v1+cell": {
     "cellMetadata": {
      "byteLimit": 2048000,
      "rowLimit": 10000
     },
     "inputWidgets": {},
     "nuid": "16849770-5161-4c04-9527-99e5fd678dd4",
     "showTitle": false,
     "tableResultSettingsMap": {},
     "title": ""
    }
   },
   "outputs": [
    {
     "output_type": "stream",
     "name": "stdout",
     "output_type": "stream",
     "text": [
      "+--------------------------------------------------------------------------------------------------------------------------------------------------+--------------------+\n|Nature_of_Payment_or_Transfer_of_Value                                                                                                            |Total_Payment       |\n+--------------------------------------------------------------------------------------------------------------------------------------------------+--------------------+\n|Royalty or License                                                                                                                                |1.1921745630200038E9|\n|Compensation for services other than consulting, including serving as faculty or as a speaker at a venue other than a continuing education program|5.946326876500018E8 |\n|Consulting Fee                                                                                                                                    |5.148558758999997E8 |\n|Food and Beverage                                                                                                                                 |3.744878240099856E8 |\n|Travel and Lodging                                                                                                                                |1.7954842377999967E8|\n|Grant                                                                                                                                             |1.1188856182E8      |\n|Acquisitions                                                                                                                                      |7.192577675999999E7 |\n|Education                                                                                                                                         |6.469532594000477E7 |\n|Honoraria                                                                                                                                         |5.585182388999998E7 |\n|Long term medical supply or device loan                                                                                                           |3.0098791950000003E7|\n+--------------------------------------------------------------------------------------------------------------------------------------------------+--------------------+\nonly showing top 10 rows\n\n"
     ]
    }
   ],
   "source": [
    "#Top 10 Nature of Payments by total amount\n",
    "from pyspark.sql.functions import sum\n",
    "\n",
    "df_general.groupBy(\"Nature_of_Payment_or_Transfer_of_Value\") \\\n",
    "    .agg(sum(\"Total_Amount_of_Payment_USDollars\").alias(\"Total_Payment\")) \\\n",
    "    .orderBy(col(\"Total_Payment\").desc()) \\\n",
    "    .show(10, False)\n"
   ]
  },
  {
   "cell_type": "code",
   "execution_count": 0,
   "metadata": {
    "application/vnd.databricks.v1+cell": {
     "cellMetadata": {
      "byteLimit": 2048000,
      "rowLimit": 10000
     },
     "inputWidgets": {},
     "nuid": "2a0c88c2-0662-4918-86df-9c56f3dfbed0",
     "showTitle": false,
     "tableResultSettingsMap": {},
     "title": ""
    }
   },
   "outputs": [
    {
     "output_type": "stream",
     "name": "stdout",
     "output_type": "stream",
     "text": [
      "+------------------------------------------------------------------------------------------------+-------------------+\n|Covered_Recipient_Profile_Primary_Specialty                                                     |Total_Payment      |\n+------------------------------------------------------------------------------------------------+-------------------+\n|null                                                                                            |8.712034564900051E8|\n|Allopathic & Osteopathic Physicians|Orthopaedic Surgery                                         |3.777555961599969E8|\n|Allopathic & Osteopathic Physicians|Psychiatry & Neurology|Neurology                            |8.680715037000023E7|\n|Allopathic & Osteopathic Physicians|Neurological Surgery                                        |8.58704690299999E7 |\n|Allopathic & Osteopathic Physicians|Dermatology                                                 |8.076589144000082E7|\n|Allopathic & Osteopathic Physicians|Orthopaedic Surgery|Adult Reconstructive Orthopaedic Surgery|7.277526618000007E7|\n|Allopathic & Osteopathic Physicians|Internal Medicine|Hematology & Oncology                     |6.576093498000095E7|\n|Allopathic & Osteopathic Physicians|Internal Medicine                                           |6.56986526400012E7 |\n|Allopathic & Osteopathic Physicians|Psychiatry & Neurology|Psychiatry                           |6.548150061000075E7|\n|Allopathic & Osteopathic Physicians|Internal Medicine|Cardiovascular Disease                    |6.305718157000023E7|\n+------------------------------------------------------------------------------------------------+-------------------+\nonly showing top 10 rows\n\n"
     ]
    }
   ],
   "source": [
    "df_joined = df_general.join(df_recipients, \"Covered_Recipient_Profile_ID\", \"left\")\n",
    "\n",
    "# Now, group by `Physician_Specialty` from the recipients table and aggregate payments\n",
    "df_joined.groupBy(\"Covered_Recipient_Profile_Primary_Specialty\") \\\n",
    "    .agg(sum(\"Total_Amount_of_Payment_USDollars\").alias(\"Total_Payment\")) \\\n",
    "    .orderBy(col(\"Total_Payment\").desc()) \\\n",
    "    .show(10, False)\n",
    "\n"
   ]
  },
  {
   "cell_type": "code",
   "execution_count": 0,
   "metadata": {
    "application/vnd.databricks.v1+cell": {
     "cellMetadata": {
      "byteLimit": 2048000,
      "rowLimit": 10000
     },
     "inputWidgets": {},
     "nuid": "6f8200d8-3afb-4cb2-9048-0ba99c9b9fb1",
     "showTitle": false,
     "tableResultSettingsMap": {},
     "title": ""
    }
   },
   "outputs": [
    {
     "output_type": "stream",
     "name": "stdout",
     "output_type": "stream",
     "text": [
      "+----------------------------+---------------------------+-------------------+\n|Covered_Recipient_First_Name|Covered_Recipient_Last_Name|Total_Payment      |\n+----------------------------+---------------------------+-------------------+\n|null                        |null                       |7.933900857900007E8|\n|STEPHEN                     |BURKHART                   |3.392202493E7      |\n|WILLIAM                     |BINDER                     |2.943437497E7      |\n|KEVIN                       |FOLEY                      |1.73059378E7       |\n|IVAN                        |OSORIO                     |1.606551551E7      |\n|GEORGE                      |MAXWELL                    |1.160032024E7      |\n|ROBERT                      |BOOTH                      |8459167.19         |\n|NEAL                        |ELATTRACHE                 |7810628.200000001  |\n|AARON                       |ROSENBERG                  |6883627.29         |\n|ROGER                       |JACKSON                    |6615711.26         |\n+----------------------------+---------------------------+-------------------+\nonly showing top 10 rows\n\n"
     ]
    }
   ],
   "source": [
    "# Join the two datasets (General Payments and Covered Recipients)\n",
    "df_joined = df_general.join(df_recipients, \"Covered_Recipient_Profile_ID\", \"left\")\n",
    "\n",
    "# Group by the physician's first and last name (or use NPI if you prefer) and sum the total payment amounts\n",
    "df_joined.groupBy(\"Covered_Recipient_First_Name\", \"Covered_Recipient_Last_Name\") \\\n",
    "    .agg(sum(\"Total_Amount_of_Payment_USDollars\").alias(\"Total_Payment\")) \\\n",
    "    .orderBy(col(\"Total_Payment\").desc()) \\\n",
    "    .show(10, False)\n"
   ]
  }
 ],
 "metadata": {
  "application/vnd.databricks.v1+notebook": {
   "computePreferences": null,
   "dashboards": [],
   "environmentMetadata": {
    "base_environment": "",
    "environment_version": "1"
   },
   "inputWidgetPreferences": null,
   "language": "python",
   "notebookMetadata": {
    "pythonIndentUnit": 4
   },
   "notebookName": "WEEK 7 SPARK APPKLICATION  2025-03-23 21:01:49",
   "widgets": {}
  }
 },
 "nbformat": 4,
 "nbformat_minor": 0
}